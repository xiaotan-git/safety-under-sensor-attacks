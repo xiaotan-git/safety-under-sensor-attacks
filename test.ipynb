{
 "cells": [
  {
   "cell_type": "code",
   "execution_count": 2,
   "metadata": {},
   "outputs": [
    {
     "name": "stdout",
     "output_type": "stream",
     "text": [
      "A: [[1.         0.03984043 0.         0.        ]\n",
      " [0.         0.99203191 0.         0.        ]\n",
      " [0.         0.         1.         0.03984043]\n",
      " [0.         0.         0.         0.99203191]],  \n",
      " B: [[0.00079787 0.        ]\n",
      " [0.03984043 0.        ]\n",
      " [0.         0.00079787]\n",
      " [0.         0.03984043]], \n",
      " C:[[1. 0. 0. 0.]\n",
      " [1. 0. 0. 0.]\n",
      " [0. 1. 0. 0.]\n",
      " [0. 1. 0. 0.]\n",
      " [0. 0. 1. 0.]\n",
      " [0. 0. 1. 0.]\n",
      " [0. 0. 0. 1.]\n",
      " [0. 0. 0. 1.]], \n",
      " D:[[0. 0.]\n",
      " [0. 0.]\n",
      " [0. 0.]\n",
      " [0. 0.]\n",
      " [0. 0.]\n",
      " [0. 0.]\n",
      " [0. 0.]\n",
      " [0. 0.]]\n",
      "input_sequence: [[ 0.34095168  3.67971037]\n",
      " [ 2.94436452  3.89498753]\n",
      " [ 2.63151981 -3.66183829]\n",
      " [ 0.          0.        ]]\n",
      "tilde_y_his: [[2.         1.         2.         1.         2.         1.\n",
      "  1.         1.        ]\n",
      " [2.07995289 1.04011246 1.99764749 1.00561557 2.04277636 1.04277636\n",
      "  1.13863314 1.13863314]\n",
      " [2.16188924 1.08252584 2.0990348  1.11490748 2.09124769 1.09124769\n",
      "  1.28473838 1.28473838]\n",
      " [2.24761529 1.12904384 2.18715038 1.21086467 2.13951054 1.13951054\n",
      "  1.12861228 1.12861228]]\n"
     ]
    }
   ],
   "source": [
    "import numpy as np\n",
    "from ss_problem import SSProblem, SecureStateReconstruct\n",
    "TS = 0.04\n",
    "Ac = np.array([[0, 1, 0, 0],[0, -0.2, 0, 0],[0,0,0,1],[0,0,0,-0.2]])\n",
    "Bc = np.array([[0, 0],[1, 0],[0, 0],[0,1]])\n",
    "Cc = np.array([[1,0,0,0],[1,0,0,0],[0,1,0,0],[0,1,0,0],[0,0,1,0],[0,0,1,0],[0,0,0,1],[0,0,0,1]])\n",
    "# Cc = np.vstack((Cc,Cc)) # if given enough sensor redundancy\n",
    "Dc = np.zeros((Cc.shape[0],Bc.shape[1]))\n",
    "s = 3\n",
    "\n",
    "# generate discrete-time system\n",
    "dtsys_a, dtsys_b, dtsys_c, dtsys_d = SSProblem.convert_ct_to_dt(Ac,Bc,Cc,Dc,TS)\n",
    "# define input output data\n",
    "init_state1 = np.array([[1.],[1.],[1.],[1.]])\n",
    "init_state2 = np.array([[2.],[2.],[2.],[1.]])\n",
    "# assume sensors 1,3,5 are under attack\n",
    "sensor_initial_states = [init_state2,init_state1,init_state2,init_state1,\n",
    "                            init_state2,init_state1,init_state1,init_state1]\n",
    "u_seq, tilde_y_his, noise_level = SSProblem.generate_attack_measurement(dtsys_a, dtsys_b, dtsys_c, dtsys_d,sensor_initial_states,\n",
    "                                                                        s = s,is_noisy =  False, noise_level=0.00001)\n",
    "\n",
    "# construct a problem instance\n",
    "ss_problem = SSProblem(dtsys_a, dtsys_b, dtsys_c, dtsys_d, tilde_y_his, \n",
    "                        attack_sensor_count=s,input_sequence=u_seq,measurement_noise_level= noise_level )\n",
    "print(f'A: {ss_problem.A},  \\n B: {ss_problem.B}, \\n C:{ss_problem.C}, \\n D:{ss_problem.D}')\n",
    "print('input_sequence:',ss_problem.u_seq)\n",
    "print('tilde_y_his:',ss_problem.tilde_y_his)"
   ]
  },
  {
   "cell_type": "code",
   "execution_count": 3,
   "metadata": {},
   "outputs": [
    {
     "name": "stdout",
     "output_type": "stream",
     "text": [
      "[[[1.         0.         0.         0.         0.         0.\n",
      "   0.         0.        ]\n",
      "  [0.         0.         0.         0.         0.         0.\n",
      "   0.         0.        ]\n",
      "  [0.         0.         0.         0.         0.         0.\n",
      "   0.         0.        ]\n",
      "  [0.         0.         0.         0.         0.         0.\n",
      "   0.         0.        ]]\n",
      "\n",
      " [[1.         0.         0.         0.         0.         0.\n",
      "   0.         0.        ]\n",
      "  [0.03984043 0.         0.         0.         0.         0.\n",
      "   0.         0.        ]\n",
      "  [0.         0.         0.         0.         0.         0.\n",
      "   0.         0.        ]\n",
      "  [0.         0.         0.         0.         0.         0.\n",
      "   0.         0.        ]]\n",
      "\n",
      " [[1.         0.         0.         0.         0.         0.\n",
      "   0.         0.        ]\n",
      "  [0.0793634  0.         0.         0.         0.         0.\n",
      "   0.         0.        ]\n",
      "  [0.         0.         0.         0.         0.         0.\n",
      "   0.         0.        ]\n",
      "  [0.         0.         0.         0.         0.         0.\n",
      "   0.         0.        ]]\n",
      "\n",
      " [[1.         0.         0.         0.         0.         0.\n",
      "   0.         0.        ]\n",
      "  [0.11857145 0.         0.         0.         0.         0.\n",
      "   0.         0.        ]\n",
      "  [0.         0.         0.         0.         0.         0.\n",
      "   0.         0.        ]\n",
      "  [0.         0.         0.         0.         0.         0.\n",
      "   0.         0.        ]]]\n",
      "[[[1.         1.         0.         0.         0.         0.\n",
      "   0.         0.        ]\n",
      "  [0.         0.         0.         0.         0.         0.\n",
      "   0.         0.        ]\n",
      "  [0.         0.         0.         0.         0.         0.\n",
      "   0.         0.        ]\n",
      "  [0.         0.         0.         0.         0.         0.\n",
      "   0.         0.        ]]\n",
      "\n",
      " [[1.         1.         0.         0.         0.         0.\n",
      "   0.         0.        ]\n",
      "  [0.03984043 0.03984043 0.         0.         0.         0.\n",
      "   0.         0.        ]\n",
      "  [0.         0.         0.         0.         0.         0.\n",
      "   0.         0.        ]\n",
      "  [0.         0.         0.         0.         0.         0.\n",
      "   0.         0.        ]]\n",
      "\n",
      " [[1.         1.         0.         0.         0.         0.\n",
      "   0.         0.        ]\n",
      "  [0.0793634  0.0793634  0.         0.         0.         0.\n",
      "   0.         0.        ]\n",
      "  [0.         0.         0.         0.         0.         0.\n",
      "   0.         0.        ]\n",
      "  [0.         0.         0.         0.         0.         0.\n",
      "   0.         0.        ]]\n",
      "\n",
      " [[1.         1.         0.         0.         0.         0.\n",
      "   0.         0.        ]\n",
      "  [0.11857145 0.11857145 0.         0.         0.         0.\n",
      "   0.         0.        ]\n",
      "  [0.         0.         0.         0.         0.         0.\n",
      "   0.         0.        ]\n",
      "  [0.         0.         0.         0.         0.         0.\n",
      "   0.         0.        ]]]\n",
      "[[[1.         1.         0.         0.         0.         0.\n",
      "   0.         0.        ]\n",
      "  [0.         0.         1.         0.         0.         0.\n",
      "   0.         0.        ]\n",
      "  [0.         0.         0.         0.         0.         0.\n",
      "   0.         0.        ]\n",
      "  [0.         0.         0.         0.         0.         0.\n",
      "   0.         0.        ]]\n",
      "\n",
      " [[1.         1.         0.         0.         0.         0.\n",
      "   0.         0.        ]\n",
      "  [0.03984043 0.03984043 0.99203191 0.         0.         0.\n",
      "   0.         0.        ]\n",
      "  [0.         0.         0.         0.         0.         0.\n",
      "   0.         0.        ]\n",
      "  [0.         0.         0.         0.         0.         0.\n",
      "   0.         0.        ]]\n",
      "\n",
      " [[1.         1.         0.         0.         0.         0.\n",
      "   0.         0.        ]\n",
      "  [0.0793634  0.0793634  0.98412732 0.         0.         0.\n",
      "   0.         0.        ]\n",
      "  [0.         0.         0.         0.         0.         0.\n",
      "   0.         0.        ]\n",
      "  [0.         0.         0.         0.         0.         0.\n",
      "   0.         0.        ]]\n",
      "\n",
      " [[1.         1.         0.         0.         0.         0.\n",
      "   0.         0.        ]\n",
      "  [0.11857145 0.11857145 0.97628571 0.         0.         0.\n",
      "   0.         0.        ]\n",
      "  [0.         0.         0.         0.         0.         0.\n",
      "   0.         0.        ]\n",
      "  [0.         0.         0.         0.         0.         0.\n",
      "   0.         0.        ]]]\n",
      "[[[1.         1.         0.         0.         0.         0.\n",
      "   0.         0.        ]\n",
      "  [0.         0.         1.         1.         0.         0.\n",
      "   0.         0.        ]\n",
      "  [0.         0.         0.         0.         0.         0.\n",
      "   0.         0.        ]\n",
      "  [0.         0.         0.         0.         0.         0.\n",
      "   0.         0.        ]]\n",
      "\n",
      " [[1.         1.         0.         0.         0.         0.\n",
      "   0.         0.        ]\n",
      "  [0.03984043 0.03984043 0.99203191 0.99203191 0.         0.\n",
      "   0.         0.        ]\n",
      "  [0.         0.         0.         0.         0.         0.\n",
      "   0.         0.        ]\n",
      "  [0.         0.         0.         0.         0.         0.\n",
      "   0.         0.        ]]\n",
      "\n",
      " [[1.         1.         0.         0.         0.         0.\n",
      "   0.         0.        ]\n",
      "  [0.0793634  0.0793634  0.98412732 0.98412732 0.         0.\n",
      "   0.         0.        ]\n",
      "  [0.         0.         0.         0.         0.         0.\n",
      "   0.         0.        ]\n",
      "  [0.         0.         0.         0.         0.         0.\n",
      "   0.         0.        ]]\n",
      "\n",
      " [[1.         1.         0.         0.         0.         0.\n",
      "   0.         0.        ]\n",
      "  [0.11857145 0.11857145 0.97628571 0.97628571 0.         0.\n",
      "   0.         0.        ]\n",
      "  [0.         0.         0.         0.         0.         0.\n",
      "   0.         0.        ]\n",
      "  [0.         0.         0.         0.         0.         0.\n",
      "   0.         0.        ]]]\n",
      "[[[1.         1.         0.         0.         0.         0.\n",
      "   0.         0.        ]\n",
      "  [0.         0.         1.         1.         0.         0.\n",
      "   0.         0.        ]\n",
      "  [0.         0.         0.         0.         1.         0.\n",
      "   0.         0.        ]\n",
      "  [0.         0.         0.         0.         0.         0.\n",
      "   0.         0.        ]]\n",
      "\n",
      " [[1.         1.         0.         0.         0.         0.\n",
      "   0.         0.        ]\n",
      "  [0.03984043 0.03984043 0.99203191 0.99203191 0.         0.\n",
      "   0.         0.        ]\n",
      "  [0.         0.         0.         0.         1.         0.\n",
      "   0.         0.        ]\n",
      "  [0.         0.         0.         0.         0.03984043 0.\n",
      "   0.         0.        ]]\n",
      "\n",
      " [[1.         1.         0.         0.         0.         0.\n",
      "   0.         0.        ]\n",
      "  [0.0793634  0.0793634  0.98412732 0.98412732 0.         0.\n",
      "   0.         0.        ]\n",
      "  [0.         0.         0.         0.         1.         0.\n",
      "   0.         0.        ]\n",
      "  [0.         0.         0.         0.         0.0793634  0.\n",
      "   0.         0.        ]]\n",
      "\n",
      " [[1.         1.         0.         0.         0.         0.\n",
      "   0.         0.        ]\n",
      "  [0.11857145 0.11857145 0.97628571 0.97628571 0.         0.\n",
      "   0.         0.        ]\n",
      "  [0.         0.         0.         0.         1.         0.\n",
      "   0.         0.        ]\n",
      "  [0.         0.         0.         0.         0.11857145 0.\n",
      "   0.         0.        ]]]\n",
      "[[[1.         1.         0.         0.         0.         0.\n",
      "   0.         0.        ]\n",
      "  [0.         0.         1.         1.         0.         0.\n",
      "   0.         0.        ]\n",
      "  [0.         0.         0.         0.         1.         1.\n",
      "   0.         0.        ]\n",
      "  [0.         0.         0.         0.         0.         0.\n",
      "   0.         0.        ]]\n",
      "\n",
      " [[1.         1.         0.         0.         0.         0.\n",
      "   0.         0.        ]\n",
      "  [0.03984043 0.03984043 0.99203191 0.99203191 0.         0.\n",
      "   0.         0.        ]\n",
      "  [0.         0.         0.         0.         1.         1.\n",
      "   0.         0.        ]\n",
      "  [0.         0.         0.         0.         0.03984043 0.03984043\n",
      "   0.         0.        ]]\n",
      "\n",
      " [[1.         1.         0.         0.         0.         0.\n",
      "   0.         0.        ]\n",
      "  [0.0793634  0.0793634  0.98412732 0.98412732 0.         0.\n",
      "   0.         0.        ]\n",
      "  [0.         0.         0.         0.         1.         1.\n",
      "   0.         0.        ]\n",
      "  [0.         0.         0.         0.         0.0793634  0.0793634\n",
      "   0.         0.        ]]\n",
      "\n",
      " [[1.         1.         0.         0.         0.         0.\n",
      "   0.         0.        ]\n",
      "  [0.11857145 0.11857145 0.97628571 0.97628571 0.         0.\n",
      "   0.         0.        ]\n",
      "  [0.         0.         0.         0.         1.         1.\n",
      "   0.         0.        ]\n",
      "  [0.         0.         0.         0.         0.11857145 0.11857145\n",
      "   0.         0.        ]]]\n",
      "[[[1.         1.         0.         0.         0.         0.\n",
      "   0.         0.        ]\n",
      "  [0.         0.         1.         1.         0.         0.\n",
      "   0.         0.        ]\n",
      "  [0.         0.         0.         0.         1.         1.\n",
      "   0.         0.        ]\n",
      "  [0.         0.         0.         0.         0.         0.\n",
      "   1.         0.        ]]\n",
      "\n",
      " [[1.         1.         0.         0.         0.         0.\n",
      "   0.         0.        ]\n",
      "  [0.03984043 0.03984043 0.99203191 0.99203191 0.         0.\n",
      "   0.         0.        ]\n",
      "  [0.         0.         0.         0.         1.         1.\n",
      "   0.         0.        ]\n",
      "  [0.         0.         0.         0.         0.03984043 0.03984043\n",
      "   0.99203191 0.        ]]\n",
      "\n",
      " [[1.         1.         0.         0.         0.         0.\n",
      "   0.         0.        ]\n",
      "  [0.0793634  0.0793634  0.98412732 0.98412732 0.         0.\n",
      "   0.         0.        ]\n",
      "  [0.         0.         0.         0.         1.         1.\n",
      "   0.         0.        ]\n",
      "  [0.         0.         0.         0.         0.0793634  0.0793634\n",
      "   0.98412732 0.        ]]\n",
      "\n",
      " [[1.         1.         0.         0.         0.         0.\n",
      "   0.         0.        ]\n",
      "  [0.11857145 0.11857145 0.97628571 0.97628571 0.         0.\n",
      "   0.         0.        ]\n",
      "  [0.         0.         0.         0.         1.         1.\n",
      "   0.         0.        ]\n",
      "  [0.         0.         0.         0.         0.11857145 0.11857145\n",
      "   0.97628571 0.        ]]]\n",
      "[[[1.         1.         0.         0.         0.         0.\n",
      "   0.         0.        ]\n",
      "  [0.         0.         1.         1.         0.         0.\n",
      "   0.         0.        ]\n",
      "  [0.         0.         0.         0.         1.         1.\n",
      "   0.         0.        ]\n",
      "  [0.         0.         0.         0.         0.         0.\n",
      "   1.         1.        ]]\n",
      "\n",
      " [[1.         1.         0.         0.         0.         0.\n",
      "   0.         0.        ]\n",
      "  [0.03984043 0.03984043 0.99203191 0.99203191 0.         0.\n",
      "   0.         0.        ]\n",
      "  [0.         0.         0.         0.         1.         1.\n",
      "   0.         0.        ]\n",
      "  [0.         0.         0.         0.         0.03984043 0.03984043\n",
      "   0.99203191 0.99203191]]\n",
      "\n",
      " [[1.         1.         0.         0.         0.         0.\n",
      "   0.         0.        ]\n",
      "  [0.0793634  0.0793634  0.98412732 0.98412732 0.         0.\n",
      "   0.         0.        ]\n",
      "  [0.         0.         0.         0.         1.         1.\n",
      "   0.         0.        ]\n",
      "  [0.         0.         0.         0.         0.0793634  0.0793634\n",
      "   0.98412732 0.98412732]]\n",
      "\n",
      " [[1.         1.         0.         0.         0.         0.\n",
      "   0.         0.        ]\n",
      "  [0.11857145 0.11857145 0.97628571 0.97628571 0.         0.\n",
      "   0.         0.        ]\n",
      "  [0.         0.         0.         0.         1.         1.\n",
      "   0.         0.        ]\n",
      "  [0.         0.         0.         0.         0.11857145 0.11857145\n",
      "   0.97628571 0.97628571]]]\n"
     ]
    }
   ],
   "source": [
    "ssr_solution = SecureStateReconstruct(ss_problem)\n",
    "# possible_states,corresp_sensors, _ = ssr_solution.solve(error_bound = 1)\n",
    "possible_states,corresp_sensors, _ = ssr_solution.solve_initial_state(error_bound = 0.01)"
   ]
  },
  {
   "cell_type": "code",
   "execution_count": 6,
   "metadata": {},
   "outputs": [
    {
     "data": {
      "text/plain": [
       "array([[0.        , 1.        , 0.        , 0.        ],\n",
       "       [0.        , 0.99203191, 0.        , 0.        ],\n",
       "       [0.        , 0.98412732, 0.        , 0.        ],\n",
       "       [0.        , 0.97628571, 0.        , 0.        ]])"
      ]
     },
     "execution_count": 6,
     "metadata": {},
     "output_type": "execute_result"
    }
   ],
   "source": [
    "ssr_solution.obser[:,:,2]"
   ]
  },
  {
   "cell_type": "code",
   "execution_count": 5,
   "metadata": {},
   "outputs": [
    {
     "data": {
      "text/plain": [
       "range(0, 0)"
      ]
     },
     "execution_count": 5,
     "metadata": {},
     "output_type": "execute_result"
    }
   ],
   "source": [
    "range(0)"
   ]
  },
  {
   "cell_type": "code",
   "execution_count": 7,
   "metadata": {},
   "outputs": [
    {
     "name": "stdout",
     "output_type": "stream",
     "text": [
      "[]\n"
     ]
    }
   ],
   "source": [
    "print([i for i in range(0)])"
   ]
  },
  {
   "cell_type": "code",
   "execution_count": null,
   "metadata": {},
   "outputs": [],
   "source": []
  },
  {
   "cell_type": "code",
   "execution_count": null,
   "metadata": {},
   "outputs": [],
   "source": []
  },
  {
   "cell_type": "code",
   "execution_count": null,
   "metadata": {},
   "outputs": [],
   "source": []
  },
  {
   "cell_type": "code",
   "execution_count": null,
   "metadata": {},
   "outputs": [],
   "source": []
  },
  {
   "cell_type": "code",
   "execution_count": null,
   "metadata": {},
   "outputs": [],
   "source": [
    "%timeit possible_states,corresp_sensors, _ = ssr_solution.solve(error_bound = 1e-2)\n"
   ]
  },
  {
   "cell_type": "code",
   "execution_count": null,
   "metadata": {},
   "outputs": [],
   "source": [
    "if possible_states is not None:\n",
    "    for ind in range(corresp_sensors.shape[0]):\n",
    "        sensors = corresp_sensors[ind,:]\n",
    "        state = possible_states[:,ind]\n",
    "        print(f'Identified possible states:{state} for sensors {sensors}')"
   ]
  },
  {
   "cell_type": "code",
   "execution_count": null,
   "metadata": {},
   "outputs": [
    {
     "name": "stdout",
     "output_type": "stream",
     "text": [
      "0.36949859996093437\n"
     ]
    }
   ],
   "source": [
    "import timeit\n",
    "\n",
    "execution_time = timeit.timeit(lambda: ssr_solution.solve(error_bound = 1e-2), number=100)\n",
    "\n",
    "print(execution_time)\n"
   ]
  },
  {
   "cell_type": "code",
   "execution_count": null,
   "metadata": {},
   "outputs": [
    {
     "data": {
      "text/plain": [
       "{0: [1, 3, 5, 6, 7], 1: [0, 2, 4]}"
      ]
     },
     "execution_count": 7,
     "metadata": {},
     "output_type": "execute_result"
    }
   ],
   "source": [
    "att_dic"
   ]
  },
  {
   "cell_type": "code",
   "execution_count": null,
   "metadata": {},
   "outputs": [
    {
     "name": "stdout",
     "output_type": "stream",
     "text": [
      "15\n"
     ]
    }
   ],
   "source": [
    "print(np.finfo(np.double).precision)"
   ]
  },
  {
   "cell_type": "code",
   "execution_count": null,
   "metadata": {},
   "outputs": [],
   "source": [
    "residuals_list = [1,2,3,4]\n",
    "residual_min = min(residuals_list)\n",
    "comb_list = residual_min<2*residual_min"
   ]
  },
  {
   "cell_type": "code",
   "execution_count": null,
   "metadata": {},
   "outputs": [
    {
     "data": {
      "text/plain": [
       "1"
      ]
     },
     "execution_count": 10,
     "metadata": {},
     "output_type": "execute_result"
    }
   ],
   "source": [
    "residuals_list[0]"
   ]
  },
  {
   "cell_type": "code",
   "execution_count": null,
   "metadata": {},
   "outputs": [],
   "source": []
  }
 ],
 "metadata": {
  "kernelspec": {
   "display_name": "base",
   "language": "python",
   "name": "python3"
  },
  "language_info": {
   "codemirror_mode": {
    "name": "ipython",
    "version": 3
   },
   "file_extension": ".py",
   "mimetype": "text/x-python",
   "name": "python",
   "nbconvert_exporter": "python",
   "pygments_lexer": "ipython3",
   "version": "3.11.9"
  }
 },
 "nbformat": 4,
 "nbformat_minor": 2
}
